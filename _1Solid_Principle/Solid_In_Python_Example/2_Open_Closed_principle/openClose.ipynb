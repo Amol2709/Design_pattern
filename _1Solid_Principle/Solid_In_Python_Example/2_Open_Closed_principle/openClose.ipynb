{
 "cells": [
  {
   "cell_type": "markdown",
   "metadata": {},
   "source": [
    "#### The open-closed principle states that a class, method, and function should be open for extension but closed for modification."
   ]
  },
  {
   "cell_type": "code",
   "execution_count": 1,
   "metadata": {},
   "outputs": [
    {
     "name": "stdout",
     "output_type": "stream",
     "text": [
      "Save the Person(name=John Doe) to database\n"
     ]
    }
   ],
   "source": [
    "class Person:\n",
    "    def __init__(self, name):\n",
    "        self.name = name\n",
    "\n",
    "    def __repr__(self):\n",
    "        return f'Person(name={self.name})'\n",
    "\n",
    "\n",
    "class PersonStorage:\n",
    "    def save_to_database(self, person):\n",
    "        print(f'Save the {person} to database')\n",
    "\n",
    "    def save_to_json(self, person):\n",
    "        print(f'Save the {person} to a JSON file')\n",
    "\n",
    "\n",
    "\n",
    "person = Person('John Doe')\n",
    "storage = PersonStorage()\n",
    "storage.save_to_database(person)"
   ]
  },
  {
   "cell_type": "markdown",
   "metadata": {},
   "source": [
    "##### Later, if you want to save the Person’s object into an XML file, you must modify the PersonStorage class. It means that the PersonStorage class is not open for extension but modification. Hence, it violates the open-closed principle."
   ]
  },
  {
   "cell_type": "code",
   "execution_count": 2,
   "metadata": {},
   "outputs": [
    {
     "name": "stdout",
     "output_type": "stream",
     "text": [
      "Save the Person(name=John Doe) to a JSON file\n"
     ]
    }
   ],
   "source": [
    "from abc import ABC, abstractmethod\n",
    "\n",
    "class PersonStorage(ABC):\n",
    "    @abstractmethod\n",
    "    def save(self, person):\n",
    "        pass\n",
    "\n",
    "class PersonDB(PersonStorage):\n",
    "    def save(self, person):\n",
    "        print(f'Save the {person} to database')\n",
    "\n",
    "\n",
    "class PersonJSON(PersonStorage):\n",
    "    def save(self, person):\n",
    "        print(f'Save the {person} to a JSON file')\n",
    "\n",
    "class PersonXML(PersonStorage):\n",
    "    def save(self, person):\n",
    "        print(f'Save the {person} to a JSON file')\n",
    "\n",
    "\n",
    "\n",
    "person = Person('John Doe')\n",
    "storage = PersonXML()\n",
    "storage.save(person)"
   ]
  },
  {
   "cell_type": "code",
   "execution_count": null,
   "metadata": {},
   "outputs": [],
   "source": []
  }
 ],
 "metadata": {
  "kernelspec": {
   "display_name": "Python 3.8.0 64-bit",
   "language": "python",
   "name": "python3"
  },
  "language_info": {
   "codemirror_mode": {
    "name": "ipython",
    "version": 3
   },
   "file_extension": ".py",
   "mimetype": "text/x-python",
   "name": "python",
   "nbconvert_exporter": "python",
   "pygments_lexer": "ipython3",
   "version": "3.8.0"
  },
  "orig_nbformat": 4,
  "vscode": {
   "interpreter": {
    "hash": "494deeb4eea7fb63b62f74ba02ace728543e0003fbb675bfec79f4f4980c3f04"
   }
  }
 },
 "nbformat": 4,
 "nbformat_minor": 2
}

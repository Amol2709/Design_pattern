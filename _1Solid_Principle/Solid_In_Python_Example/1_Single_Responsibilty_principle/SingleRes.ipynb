{
 "cells": [
  {
   "cell_type": "code",
   "execution_count": null,
   "metadata": {},
   "outputs": [],
   "source": []
  },
  {
   "cell_type": "markdown",
   "metadata": {},
   "source": [
    "#### The single responsibility principle (SRP) states that every class, method, and function should have only one job or one reason to change.\n",
    "\n",
    "The purposes of the single responsibility principle are to:\n",
    "\n",
    "Create high cohesive and robust classes, methods, and functions.\n",
    "Promote class composition\n",
    "Avoid code duplication"
   ]
  },
  {
   "cell_type": "code",
   "execution_count": null,
   "metadata": {},
   "outputs": [],
   "source": [
    "class Person:\n",
    "    def __init__(self, name):\n",
    "        self.name = name\n",
    "\n",
    "    def __repr__(self):\n",
    "        return f'Person(name={self.name})'\n",
    "\n",
    "    @classmethod\n",
    "    def save(cls, person):\n",
    "        print(f'Save the {person} to the database')\n",
    "\n",
    "\n",
    "\n",
    "p = Person('John Doe')\n",
    "Person.save(p)"
   ]
  },
  {
   "cell_type": "markdown",
   "metadata": {},
   "source": [
    "To make the Person class conforms to the single responsibility principle, you’ll need to create another class that is in charge of storing the Person to a database. For example:"
   ]
  },
  {
   "cell_type": "code",
   "execution_count": 1,
   "metadata": {},
   "outputs": [
    {
     "name": "stdout",
     "output_type": "stream",
     "text": [
      "Save the Person(name=John Doe) to the database\n"
     ]
    }
   ],
   "source": [
    "class Person:\n",
    "    def __init__(self, name):\n",
    "        self.name = name\n",
    "\n",
    "    def __repr__(self):\n",
    "        return f'Person(name={self.name})'\n",
    "\n",
    "\n",
    "class PersonDB:\n",
    "    def save(self, person):\n",
    "        print(f'Save the {person} to the database')\n",
    "\n",
    "\n",
    "\n",
    "p = Person('John Doe')\n",
    "\n",
    "db = PersonDB()\n",
    "db.save(p)"
   ]
  },
  {
   "cell_type": "markdown",
   "metadata": {},
   "source": [
    "In this design, if you want to save the Person to different storage, you can define another class to do that. And you don’t need to change the Person class.\n",
    "\n",
    "When designing classes, you should put related methods that have the same reason for change together. In other words, you should separate classes if they change for different reasons."
   ]
  },
  {
   "cell_type": "markdown",
   "metadata": {},
   "source": []
  }
 ],
 "metadata": {
  "kernelspec": {
   "display_name": "Python 3.8.0 64-bit",
   "language": "python",
   "name": "python3"
  },
  "language_info": {
   "codemirror_mode": {
    "name": "ipython",
    "version": 3
   },
   "file_extension": ".py",
   "mimetype": "text/x-python",
   "name": "python",
   "nbconvert_exporter": "python",
   "pygments_lexer": "ipython3",
   "version": "3.8.0"
  },
  "orig_nbformat": 4,
  "vscode": {
   "interpreter": {
    "hash": "494deeb4eea7fb63b62f74ba02ace728543e0003fbb675bfec79f4f4980c3f04"
   }
  }
 },
 "nbformat": 4,
 "nbformat_minor": 2
}

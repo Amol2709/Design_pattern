{
 "cells": [
  {
   "cell_type": "code",
   "execution_count": null,
   "metadata": {},
   "outputs": [],
   "source": []
  },
  {
   "cell_type": "markdown",
   "metadata": {},
   "source": [
    "### Interface Segra\n",
    "1. The interface segregation principle states that an interface should be as small a possible in terms of cohesion. In other words, it should do ONE thing.\n",
    "2. “Make fine-grained interfaces that are client-specific. Clients should not be forced to implement interfaces they do not use.”\n",
    "\n",
    "####"
   ]
  },
  {
   "cell_type": "code",
   "execution_count": 1,
   "metadata": {},
   "outputs": [],
   "source": [
    "from abc import ABC, abstractmethod\n",
    "\n",
    "\n",
    "class Vehicle(ABC):\n",
    "    @abstractmethod\n",
    "    def go(self):\n",
    "        pass\n",
    "\n",
    "    @abstractmethod\n",
    "    def fly(self):\n",
    "        pass\n",
    "\n",
    "class Aircraft(Vehicle):\n",
    "    def go(self):\n",
    "        print(\"Taxiing\")\n",
    "\n",
    "    def fly(self):\n",
    "        print(\"Flying\")\n",
    "\n",
    "\n",
    "class Car(Vehicle):\n",
    "    def go(self):\n",
    "        print(\"Going\")\n",
    "\n",
    "    def fly(self):\n",
    "        raise Exception('The car cannot fly')"
   ]
  },
  {
   "cell_type": "markdown",
   "metadata": {},
   "source": [
    "##### while Overriding any method in Child Class it can only throw Exception if that is written in Parant class that it can throw exception (Child Will never go above parents)"
   ]
  },
  {
   "cell_type": "code",
   "execution_count": 3,
   "metadata": {},
   "outputs": [],
   "source": [
    "class Movable(ABC):\n",
    "    @abstractmethod\n",
    "    def go(self):\n",
    "        pass\n",
    "\n",
    "\n",
    "class Flyable(Movable):\n",
    "    @abstractmethod\n",
    "    def fly(self):\n",
    "        pass\n",
    "\n",
    "class Aircraft(Flyable):\n",
    "    def go(self):\n",
    "        print(\"Taxiing\")\n",
    "\n",
    "    def fly(self):\n",
    "        print(\"Flying\")\n",
    "\n",
    "\n",
    "class Car(Movable):\n",
    "    def go(self):\n",
    "        print(\"Going\")\n"
   ]
  },
  {
   "cell_type": "code",
   "execution_count": null,
   "metadata": {},
   "outputs": [],
   "source": []
  }
 ],
 "metadata": {
  "kernelspec": {
   "display_name": "Python 3.8.0 64-bit",
   "language": "python",
   "name": "python3"
  },
  "language_info": {
   "codemirror_mode": {
    "name": "ipython",
    "version": 3
   },
   "file_extension": ".py",
   "mimetype": "text/x-python",
   "name": "python",
   "nbconvert_exporter": "python",
   "pygments_lexer": "ipython3",
   "version": "3.8.0"
  },
  "orig_nbformat": 4,
  "vscode": {
   "interpreter": {
    "hash": "494deeb4eea7fb63b62f74ba02ace728543e0003fbb675bfec79f4f4980c3f04"
   }
  }
 },
 "nbformat": 4,
 "nbformat_minor": 2
}

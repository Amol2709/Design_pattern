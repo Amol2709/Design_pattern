{
 "cells": [
  {
   "cell_type": "markdown",
   "metadata": {},
   "source": [
    "### Dependecy Inversion Principle:\n",
    "\n",
    "High Level Module Should not depend on Low Level Module. Both Should depend on abstraction.\n",
    "The dependency inversion principle aims to reduce the coupling between classes by creating an abstraction layer between them."
   ]
  },
  {
   "cell_type": "markdown",
   "metadata": {},
   "source": []
  },
  {
   "cell_type": "code",
   "execution_count": 1,
   "metadata": {},
   "outputs": [
    {
     "name": "stdout",
     "output_type": "stream",
     "text": [
      "100 EUR = 120.0 USD\n"
     ]
    }
   ],
   "source": [
    "class FXConverter:\n",
    "    def convert(self, from_currency, to_currency, amount):\n",
    "        print(f'{amount} {from_currency} = {amount * 1.2} {to_currency}')\n",
    "        return amount * 1.2\n",
    "\n",
    "\n",
    "# App is high level Module which id directly depend on FxConvertor\n",
    "class App:\n",
    "    def start(self):\n",
    "        converter = FXConverter()\n",
    "        converter.convert('EUR', 'USD', 100)\n",
    "\n",
    "\n",
    "app = App()\n",
    "app.start()"
   ]
  },
  {
   "cell_type": "code",
   "execution_count": 3,
   "metadata": {},
   "outputs": [
    {
     "name": "stdout",
     "output_type": "stream",
     "text": [
      "Converting currency using FX API\n",
      "100 EUR = 120.0 USD\n"
     ]
    }
   ],
   "source": [
    "from abc import ABC\n",
    "\n",
    "\n",
    "class CurrencyConverter(ABC):\n",
    "    def convert(self, from_currency, to_currency, amount) -> float:\n",
    "        pass\n",
    "\n",
    "class FXConverter(CurrencyConverter):\n",
    "    def convert(self, from_currency, to_currency, amount) -> float:\n",
    "        print('Converting currency using FX API')\n",
    "        print(f'{amount} {from_currency} = {amount * 1.2} {to_currency}')\n",
    "        return amount * 2\n",
    "\n",
    "\n",
    "class App:\n",
    "    def __init__(self, converter: CurrencyConverter):\n",
    "        self.converter = converter\n",
    "\n",
    "    def start(self):\n",
    "        self.converter.convert('EUR', 'USD', 100)\n",
    "\n",
    "\n",
    "converter = FXConverter()\n",
    "app = App(converter)\n",
    "app.start()"
   ]
  },
  {
   "cell_type": "code",
   "execution_count": null,
   "metadata": {},
   "outputs": [],
   "source": []
  }
 ],
 "metadata": {
  "kernelspec": {
   "display_name": "Python 3.8.0 64-bit",
   "language": "python",
   "name": "python3"
  },
  "language_info": {
   "codemirror_mode": {
    "name": "ipython",
    "version": 3
   },
   "file_extension": ".py",
   "mimetype": "text/x-python",
   "name": "python",
   "nbconvert_exporter": "python",
   "pygments_lexer": "ipython3",
   "version": "3.8.0"
  },
  "orig_nbformat": 4,
  "vscode": {
   "interpreter": {
    "hash": "494deeb4eea7fb63b62f74ba02ace728543e0003fbb675bfec79f4f4980c3f04"
   }
  }
 },
 "nbformat": 4,
 "nbformat_minor": 2
}

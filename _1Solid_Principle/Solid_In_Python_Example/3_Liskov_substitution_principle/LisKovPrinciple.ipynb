{
 "cells": [
  {
   "cell_type": "code",
   "execution_count": null,
   "metadata": {},
   "outputs": [],
   "source": []
  },
  {
   "cell_type": "markdown",
   "metadata": {},
   "source": [
    "### Liskov Substitution Principle\n",
    "\n",
    "\n",
    "1. It state that Parent Class Object is replacable by it's child class\n",
    "2. Child class should not give differnt meaning to it's parent class\n"
   ]
  },
  {
   "cell_type": "code",
   "execution_count": 2,
   "metadata": {},
   "outputs": [
    {
     "name": "stdout",
     "output_type": "stream",
     "text": [
      "Send Hello to john@test.com\n"
     ]
    }
   ],
   "source": [
    "from abc import ABC, abstractmethod\n",
    "\n",
    "\n",
    "class Notification(ABC):\n",
    "    @abstractmethod\n",
    "    def notify(self, message, email):\n",
    "        pass\n",
    "\n",
    "\n",
    "class Email(Notification):\n",
    "    def notify(self, message, email):\n",
    "        print(f'Send {message} to {email}')\n",
    "\n",
    "\n",
    "class SMS(Notification):\n",
    "    def notify(self, message, phone):\n",
    "        print(f'Send {message} to {phone}')\n",
    "\n",
    "\n",
    "\n",
    "notification = Email()\n",
    "notification.notify('Hello', 'john@test.com')"
   ]
  },
  {
   "cell_type": "markdown",
   "metadata": {},
   "source": [
    "### However, the SMS class uses a phone number, not an email, for sending a message. Therefore, we need to change the signature of the notify() method of the SMS class to accept a phone number instead of an email."
   ]
  },
  {
   "cell_type": "code",
   "execution_count": 3,
   "metadata": {},
   "outputs": [
    {
     "name": "stdout",
     "output_type": "stream",
     "text": [
      "Send Hello John to (408)-888-9999\n"
     ]
    }
   ],
   "source": [
    "class Contact:\n",
    "    def __init__(self, name, email, phone):\n",
    "        self.name = name\n",
    "        self.email = email\n",
    "        self.phone = phone\n",
    "\n",
    "\n",
    "class NotificationManager:\n",
    "    def __init__(self, notification, contact):\n",
    "        self.contact = contact\n",
    "        self.notification = notification\n",
    "\n",
    "    def send(self, message):\n",
    "        if isinstance(self.notification, Email):\n",
    "            self.notification.notify(message, contact.email)\n",
    "        elif isinstance(self.notification, SMS):\n",
    "            self.notification.notify(message, contact.phone)\n",
    "        else:\n",
    "            raise Exception('The notification is not supported')\n",
    "\n",
    "\n",
    "\n",
    "contact = Contact('John Doe', 'john@test.com', '(408)-888-9999')\n",
    "notification_manager = NotificationManager(SMS(), contact)\n",
    "notification_manager.send('Hello John')\n"
   ]
  },
  {
   "cell_type": "markdown",
   "metadata": {},
   "source": [
    "### Liskov"
   ]
  },
  {
   "cell_type": "code",
   "execution_count": 4,
   "metadata": {},
   "outputs": [
    {
     "name": "stdout",
     "output_type": "stream",
     "text": [
      "Send \"Hello John\" to (408)-888-9999\n",
      "Send \"Hi John\" to john@test.com\n"
     ]
    }
   ],
   "source": [
    "from abc import ABC, abstractmethod\n",
    "\n",
    "\n",
    "class Notification(ABC):\n",
    "    @abstractmethod\n",
    "    def notify(self, message):\n",
    "        pass\n",
    "\n",
    "\n",
    "class Email(Notification):\n",
    "    def __init__(self, email):\n",
    "        self.email = email\n",
    "\n",
    "    def notify(self, message):\n",
    "        print(f'Send \"{message}\" to {self.email}')\n",
    "\n",
    "\n",
    "class SMS(Notification):\n",
    "    def __init__(self, phone):\n",
    "        self.phone = phone\n",
    "\n",
    "    def notify(self, message):\n",
    "        print(f'Send \"{message}\" to {self.phone}')\n",
    "\n",
    "\n",
    "class Contact:\n",
    "    def __init__(self, name, email, phone):\n",
    "        self.name = name\n",
    "        self.email = email\n",
    "        self.phone = phone\n",
    "\n",
    "\n",
    "class NotificationManager:\n",
    "    def __init__(self, notification):\n",
    "        self.notification = notification\n",
    "\n",
    "    def send(self, message):\n",
    "        self.notification.notify(message)\n",
    "\n",
    "\n",
    "\n",
    "contact = Contact('John Doe', 'john@test.com', '(408)-888-9999')\n",
    "\n",
    "sms_notification = SMS(contact.phone)\n",
    "email_notification = Email(contact.email)\n",
    "\n",
    "notification_manager = NotificationManager(sms_notification)\n",
    "notification_manager.send('Hello John')\n",
    "\n",
    "notification_manager.notification = email_notification\n",
    "notification_manager.send('Hi John')\n"
   ]
  },
  {
   "cell_type": "code",
   "execution_count": null,
   "metadata": {},
   "outputs": [],
   "source": []
  }
 ],
 "metadata": {
  "kernelspec": {
   "display_name": "Python 3.8.0 64-bit",
   "language": "python",
   "name": "python3"
  },
  "language_info": {
   "codemirror_mode": {
    "name": "ipython",
    "version": 3
   },
   "file_extension": ".py",
   "mimetype": "text/x-python",
   "name": "python",
   "nbconvert_exporter": "python",
   "pygments_lexer": "ipython3",
   "version": "3.8.0"
  },
  "orig_nbformat": 4,
  "vscode": {
   "interpreter": {
    "hash": "494deeb4eea7fb63b62f74ba02ace728543e0003fbb675bfec79f4f4980c3f04"
   }
  }
 },
 "nbformat": 4,
 "nbformat_minor": 2
}

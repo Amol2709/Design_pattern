{
 "cells": [
  {
   "cell_type": "markdown",
   "metadata": {},
   "source": [
    "### Single Inheritance"
   ]
  },
  {
   "cell_type": "code",
   "execution_count": 10,
   "metadata": {},
   "outputs": [
    {
     "name": "stdout",
     "output_type": "stream",
     "text": [
      "<class '__main__.Person'>\n",
      "<class '__main__.Employee'>\n",
      "<class '__main__.SalesEmployee'>\n",
      "****************************************************************************************************\n",
      "True\n",
      "True\n",
      "False\n",
      "False\n",
      "****************************************************************************************************\n",
      "True\n",
      "False\n",
      "True\n",
      "True\n"
     ]
    }
   ],
   "source": [
    "class  Person:\n",
    "    def __init__(self,name):\n",
    "        self.name = name\n",
    "    def greet(self,name):\n",
    "        return \"Hi it's {}\".format(self.name)\n",
    "\n",
    "class Employee(Person):\n",
    "    pass\n",
    "\n",
    "class SalesEmployee(Person):\n",
    "    pass\n",
    "\n",
    "\n",
    "person_obj = Person(\"amol\")\n",
    "employee_obj = Employee('amol_Employee')\n",
    "salesemp_obj = SalesEmployee('amol_sales')\n",
    "\n",
    "print(type(person_obj))\n",
    "print(type(employee_obj))\n",
    "print(type(salesemp_obj))\n",
    "print('*'*100)\n",
    "print(issubclass(Employee,Person))\n",
    "print(issubclass(SalesEmployee,Person))\n",
    "print(issubclass(Person,Employee))\n",
    "print(issubclass(SalesEmployee,Employee))\n",
    "print('*'*100)\n",
    "\n",
    "print(isinstance(person_obj,Person)) # True\n",
    "print(isinstance(person_obj,Employee))\n",
    "print(isinstance(employee_obj,Employee)) # True\n",
    "print(isinstance(employee_obj,Person))\n",
    "\n",
    "\n"
   ]
  },
  {
   "cell_type": "markdown",
   "metadata": {},
   "source": [
    "#### Method Overriding"
   ]
  },
  {
   "cell_type": "code",
   "execution_count": 11,
   "metadata": {},
   "outputs": [
    {
     "name": "stdout",
     "output_type": "stream",
     "text": [
      "5000\n",
      "6500\n"
     ]
    }
   ],
   "source": [
    "class Employee:\n",
    "    def __init__(self, name, base_pay):\n",
    "        self.name = name\n",
    "        self.base_pay = base_pay\n",
    "\n",
    "    def get_pay(self):\n",
    "        return self.base_pay\n",
    "\n",
    "\n",
    "class SalesEmployee(Employee):\n",
    "    def __init__(self, name, base_pay, sales_incentive):\n",
    "        self.name = name\n",
    "        self.base_pay = base_pay\n",
    "        self.sales_incentive = sales_incentive\n",
    "\n",
    "    def get_pay(self):\n",
    "        return self.base_pay + self.sales_incentive\n",
    "\n",
    "\n",
    "\n",
    "jane = Employee('Jane', 5000)\n",
    "print(jane.get_pay())\n",
    "\n",
    "john = SalesEmployee('John', 5000, 1500)\n",
    "print(john.get_pay())"
   ]
  },
  {
   "cell_type": "markdown",
   "metadata": {},
   "source": [
    "### Abstract Class"
   ]
  },
  {
   "cell_type": "code",
   "execution_count": 13,
   "metadata": {},
   "outputs": [
    {
     "name": "stdout",
     "output_type": "stream",
     "text": [
      "John Doe : 6000\n",
      "Jane Doe : 6500\n",
      "Jenifer Smith : 10000\n",
      "David Wilson : 15000\n",
      "Kevin Miller : 15000\n"
     ]
    }
   ],
   "source": [
    "from abc import ABC, abstractmethod\n",
    "\n",
    "\n",
    "class Employee(ABC):\n",
    "    def __init__(self, first_name, last_name):\n",
    "        self.first_name = first_name\n",
    "        self.last_name = last_name\n",
    "\n",
    "    def full_name(self):\n",
    "        return f\"{self.first_name} {self.last_name}\"\n",
    "\n",
    "    @abstractmethod\n",
    "    def get_salary(self):\n",
    "        pass\n",
    "\n",
    "\n",
    "class FulltimeEmployee(Employee):\n",
    "    def __init__(self, first_name, last_name, salary):\n",
    "        super().__init__(first_name, last_name)\n",
    "        self.salary = salary\n",
    "\n",
    "    def get_salary(self):\n",
    "        return self.salary\n",
    "\n",
    "\n",
    "class HourlyEmployee(Employee):\n",
    "    def __init__(self, first_name, last_name, worked_hours, rate):\n",
    "        super().__init__(first_name, last_name)\n",
    "        self.worked_hours = worked_hours\n",
    "        self.rate = rate\n",
    "\n",
    "    def get_salary(self):\n",
    "        return self.worked_hours * self.rate\n",
    "\n",
    "\n",
    "class Payroll:\n",
    "    def __init__(self):\n",
    "        self.employee_list = []\n",
    "\n",
    "    def add(self, employee):\n",
    "        self.employee_list.append(employee)\n",
    "\n",
    "    def print(self):\n",
    "        for e in self.employee_list:\n",
    "            print(\"{} : {}\".format(e.full_name(),e.get_salary()))\n",
    "\n",
    "\n",
    "\n",
    "payroll = Payroll()\n",
    "\n",
    "payroll.add(FulltimeEmployee('John', 'Doe', 6000))\n",
    "payroll.add(FulltimeEmployee('Jane', 'Doe', 6500))\n",
    "payroll.add(HourlyEmployee('Jenifer', 'Smith', 200, 50))\n",
    "payroll.add(HourlyEmployee('David', 'Wilson', 150, 100))\n",
    "payroll.add(HourlyEmployee('Kevin', 'Miller', 100, 150))\n",
    "\n",
    "payroll.print()"
   ]
  },
  {
   "cell_type": "markdown",
   "metadata": {},
   "source": [
    "### Multiple Inheritance"
   ]
  },
  {
   "cell_type": "code",
   "execution_count": 19,
   "metadata": {},
   "outputs": [
    {
     "name": "stdout",
     "output_type": "stream",
     "text": [
      "Start the Flyable object\n",
      "(<class '__main__.FlyingCar'>, <class '__main__.Flyable'>, <class '__main__.Car'>, <class 'object'>)\n"
     ]
    }
   ],
   "source": [
    "class Car:\n",
    "    def start(self):\n",
    "        print('Start the Car')\n",
    "\n",
    "    def go(self):\n",
    "        print('Going')\n",
    "\n",
    "\n",
    "class Flyable:\n",
    "    def start(self):\n",
    "        print('Start the Flyable object')\n",
    "\n",
    "    def fly(self):\n",
    "        print('Flying')\n",
    "\n",
    "\n",
    "class FlyingCar(Flyable, Car):\n",
    "    def start(self):\n",
    "        super().start()\n",
    "\n",
    "\n",
    "\n",
    "car = FlyingCar()\n",
    "car.start()\n",
    "\n",
    "print(FlyingCar.__mro__)"
   ]
  },
  {
   "cell_type": "markdown",
   "metadata": {},
   "source": [
    "### Multiple Inheritance and Super"
   ]
  },
  {
   "cell_type": "code",
   "execution_count": 23,
   "metadata": {},
   "outputs": [
    {
     "name": "stdout",
     "output_type": "stream",
     "text": [
      "Start the Car\n",
      "(<class '__main__.FlyingCar'>, <class '__main__.Car'>, <class '__main__.Flyable'>, <class 'object'>)\n"
     ]
    }
   ],
   "source": [
    "class Car:\n",
    "    def __init__(self, door, wheel):\n",
    "        self.door = door\n",
    "        self.wheel = wheel\n",
    "\n",
    "    def start(self):\n",
    "        print('Start the Car')\n",
    "\n",
    "    def go(self):\n",
    "        print('Going')\n",
    "\n",
    "\n",
    "\n",
    "class Flyable:\n",
    "    def __init__(self, wing):\n",
    "        self.wing = wing\n",
    "\n",
    "    def start(self):\n",
    "        print('Start the Flyable object')\n",
    "\n",
    "    def fly(self):\n",
    "        print('Flying')\n",
    "\n",
    "class FlyingCar( Car, Flyable):\n",
    "    def __init__(self, door, wheel, wing):\n",
    "        super().__init__(door,wheel)\n",
    "        self.door = door\n",
    "        self.wheel = wheel\n",
    "\n",
    "    def start(self):\n",
    "        super().start()\n",
    "\n",
    "\n",
    "car = FlyingCar(4,4,2)\n",
    "car.start()\n",
    "\n",
    "print(FlyingCar.__mro__)"
   ]
  },
  {
   "cell_type": "code",
   "execution_count": null,
   "metadata": {},
   "outputs": [],
   "source": []
  },
  {
   "cell_type": "code",
   "execution_count": null,
   "metadata": {},
   "outputs": [],
   "source": []
  }
 ],
 "metadata": {
  "kernelspec": {
   "display_name": "Python 3.8.5 ('base')",
   "language": "python",
   "name": "python3"
  },
  "language_info": {
   "codemirror_mode": {
    "name": "ipython",
    "version": 3
   },
   "file_extension": ".py",
   "mimetype": "text/x-python",
   "name": "python",
   "nbconvert_exporter": "python",
   "pygments_lexer": "ipython3",
   "version": "3.8.5"
  },
  "orig_nbformat": 4,
  "vscode": {
   "interpreter": {
    "hash": "5ae58900cfbb8c43ab3495913814b7cf26024f51651a94ce8bf64d6111688e8d"
   }
  }
 },
 "nbformat": 4,
 "nbformat_minor": 2
}

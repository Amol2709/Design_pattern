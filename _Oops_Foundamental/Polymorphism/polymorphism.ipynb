{
 "cells": [
  {
   "cell_type": "markdown",
   "metadata": {},
   "source": [
    "### PolyMorphism"
   ]
  },
  {
   "cell_type": "markdown",
   "metadata": {},
   "source": []
  },
  {
   "cell_type": "code",
   "execution_count": 8,
   "metadata": {},
   "outputs": [
    {
     "name": "stdout",
     "output_type": "stream",
     "text": [
      "Bringing epidemic Corona/Virus to you this fall!\n",
      "Bringing epidemic Corona/Virus to you this fall!\n",
      "False\n"
     ]
    }
   ],
   "source": [
    "class Apocalypse:\n",
    "    def __init__(self, name: str):\n",
    "        self.name = name\n",
    "\n",
    "    def print_message(self):\n",
    "        print(f\"Bringing {self.name} to you this fall!\")\n",
    "    \n",
    "    def __eq__(self, other) -> bool:\n",
    "        return self.name == other.name\n",
    "\n",
    "\n",
    "class Epidemic(Apocalypse):\n",
    "    def __init__(self, name: str, epidemic_type: str):\n",
    "        super().__init__(name)\n",
    "        self.epidemic_type = epidemic_type\n",
    "    \n",
    "    def print_message(self):\n",
    "        print(f\"Bringing epidemic {self.name}/{self.epidemic_type} to you this fall!\")\n",
    "    \n",
    "    def mutate(self, force=False):\n",
    "        if force:\n",
    "            self.name += \"_mutated\"\n",
    "        return self\n",
    "\n",
    "\n",
    "def print_message(source: Apocalypse):\n",
    "    source.print_message()\n",
    "\n",
    "corona = Epidemic(\"Corona\", \"Virus\")\n",
    "\n",
    "print_message(corona)\n",
    "\n",
    "corona.mutate(False)\n",
    "print_message(corona)\n",
    "\n",
    "ebola = Epidemic(\"Ebola\", \"Virus\")\n",
    "print(corona == ebola)"
   ]
  },
  {
   "cell_type": "code",
   "execution_count": null,
   "metadata": {},
   "outputs": [],
   "source": []
  },
  {
   "cell_type": "markdown",
   "metadata": {},
   "source": [
    "### Simple Example"
   ]
  },
  {
   "cell_type": "code",
   "execution_count": 6,
   "metadata": {},
   "outputs": [
    {
     "name": "stdout",
     "output_type": "stream",
     "text": [
      "Parrot can fly\n",
      "Penguin can't fly\n"
     ]
    }
   ],
   "source": [
    "from abc import ABC, abstractmethod\n",
    "\n",
    "class Bird(ABC):\n",
    "\n",
    "    @abstractmethod\n",
    "    def fly(self):\n",
    "        pass\n",
    "\n",
    "\n",
    "class Parrot(Bird):\n",
    "\n",
    "    def fly(self):\n",
    "        print(\"Parrot can fly\")\n",
    "    \n",
    "    def swim(self):\n",
    "        print(\"Parrot can't swim\")\n",
    "\n",
    "class Penguin(Bird):\n",
    "\n",
    "    def fly(self):\n",
    "        print(\"Penguin can't fly\")\n",
    "    \n",
    "    def swim(self):\n",
    "        print(\"Penguin can swim\")\n",
    "\n",
    "# common interface\n",
    "def flying_test(bird: Bird):\n",
    "    bird.fly()\n",
    "\n",
    "#instantiate objects\n",
    "blu = Parrot()\n",
    "peggy = Penguin()\n",
    "\n",
    "# passing the object\n",
    "flying_test(blu)\n",
    "flying_test(peggy)"
   ]
  },
  {
   "cell_type": "code",
   "execution_count": 7,
   "metadata": {},
   "outputs": [
    {
     "name": "stdout",
     "output_type": "stream",
     "text": [
      "<class '__main__.Parrot'>\n"
     ]
    }
   ],
   "source": [
    "print(type(blu))"
   ]
  },
  {
   "cell_type": "code",
   "execution_count": null,
   "metadata": {},
   "outputs": [],
   "source": []
  }
 ],
 "metadata": {
  "kernelspec": {
   "display_name": "Python 3.8.5 ('base')",
   "language": "python",
   "name": "python3"
  },
  "language_info": {
   "codemirror_mode": {
    "name": "ipython",
    "version": 3
   },
   "file_extension": ".py",
   "mimetype": "text/x-python",
   "name": "python",
   "nbconvert_exporter": "python",
   "pygments_lexer": "ipython3",
   "version": "3.8.5"
  },
  "orig_nbformat": 4,
  "vscode": {
   "interpreter": {
    "hash": "5ae58900cfbb8c43ab3495913814b7cf26024f51651a94ce8bf64d6111688e8d"
   }
  }
 },
 "nbformat": 4,
 "nbformat_minor": 2
}

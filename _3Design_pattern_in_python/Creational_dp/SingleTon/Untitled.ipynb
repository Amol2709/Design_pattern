{
 "cells": [
  {
   "cell_type": "markdown",
   "metadata": {},
   "source": [
    "## SingleTon Design Pattern\n",
    "\n",
    "#####  Sometimes you need an object in an application where there is only one instance. \n",
    "##### You don't want there to be many versions, \n",
    "###### for example:\n",
    "        you have a game with a score and you want to adjust it. You may have accidentally created several instances of the class holding the score object. Or, you may be opening a database connection, there is no need to create many, when you\n",
    "    can use the existing one that is already in memory. You may want a logging component, and you\n",
    "    want to ensure all classes use the same instance. So, every class could declare their own logger\n",
    "    component, but behind the scenes, they all point to the same memory address (id).\n",
    "    \n",
    "#### By creating a class and following the Singleton pattern, you can enforce that even if any number of instances were created, they will still refer to the original class."
   ]
  },
  {
   "cell_type": "code",
   "execution_count": null,
   "metadata": {},
   "outputs": [],
   "source": []
  },
  {
   "cell_type": "markdown",
   "metadata": {},
   "source": [
    "##### Note:\n",
    "#### When you create an instance of a class, Python first calls the __new__() method to create the object and then calls the __init__() method to initialize the object’s attributes.\n",
    "\n",
    "The __new__() is a static method of the object class. It has the following signature\n",
    "\n",
    "The __new__() method should return a new object of the class. But it doesn’t have to\n",
    "\n",
    "object.__new__(class, *args, **kwargs)\n",
    "\n",
    "The first argument of the __new__ method is the class of the new object that you want to create.\n",
    "\n",
    "The *args and **kwargs parameters must match the parameters of the __init__() of the class. However, the __new__() method does use them."
   ]
  },
  {
   "cell_type": "code",
   "execution_count": 10,
   "metadata": {},
   "outputs": [],
   "source": [
    "class Person:\n",
    "    def __init__(self, name):\n",
    "        self.name = name\n",
    "\n",
    "\n",
    "person = Person('John')"
   ]
  },
  {
   "cell_type": "code",
   "execution_count": 13,
   "metadata": {},
   "outputs": [
    {
     "name": "stdout",
     "output_type": "stream",
     "text": [
      "{}\n",
      "{'name': 'John'}\n"
     ]
    }
   ],
   "source": [
    "person = object.__new__(Person, 'John')\n",
    "#person = object.__new__(Person)\n",
    "print(person.__dict__)\n",
    "person.__init__('John')\n",
    "print(person.__dict__)"
   ]
  },
  {
   "cell_type": "markdown",
   "metadata": {},
   "source": [
    "###  __new__ method is called automatically when calling the class name, whereas __init__ method is called every time an instance of the class is returned by __new__ method, passing the returned instance to __init__ as the self parameter.\n",
    "\n",
    "### This means that if the super is omitted for __new__ method the __init__ method will not be executed. "
   ]
  },
  {
   "cell_type": "code",
   "execution_count": 62,
   "metadata": {},
   "outputs": [
    {
     "name": "stdout",
     "output_type": "stream",
     "text": [
      "Creating a new Person object...\n",
      "Creating a new Person object...\n",
      "Creating a new Person object...\n",
      "3050892606144\n",
      "3050892606144\n",
      "3050892606144\n",
      "3050892606144\n"
     ]
    }
   ],
   "source": [
    "import copy\n",
    "class Person:\n",
    "    def __new__(cls):\n",
    "        print(f'Creating a new {cls.__name__} object...')\n",
    "        return cls\n",
    "\n",
    "    def __init__(self, name):\n",
    "        print(f'Initializing the person object...')\n",
    "        self.name = name\n",
    "\n",
    "\n",
    "person1 = Person()\n",
    "person2 = Person()\n",
    "person3 = Person()\n",
    "\n",
    "print(id(person1))\n",
    "print(id(person2))\n",
    "print(id(person3))\n",
    "\n",
    "person4 = copy.deepcopy(person1)\n",
    "print(id(person4))\n",
    "# print(person1)\n",
    "# print(person1.__init__(person,'john'))\n",
    "\n"
   ]
  },
  {
   "cell_type": "code",
   "execution_count": 54,
   "metadata": {},
   "outputs": [
    {
     "name": "stdout",
     "output_type": "stream",
     "text": [
      "Creating a new Person object...\n",
      "Initializing the person object...\n",
      "John\n",
      "<__main__.Person object at 0x000002C6581B8EB0>\n",
      "Initializing the person object...\n",
      "Jon\n",
      "None\n"
     ]
    }
   ],
   "source": [
    "class Person:\n",
    "    def __new__(cls,name):\n",
    "        print(f'Creating a new {cls.__name__} object...')\n",
    "        obj = object.__new__(cls)\n",
    "        #obj=super().__new__(cls)\n",
    "        return obj\n",
    "\n",
    "    def __init__(self, name):\n",
    "        print(f'Initializing the person object...')\n",
    "        print(name)\n",
    "        self.name = name\n",
    "\n",
    "\n",
    "person = Person('John')\n",
    "print(person)\n",
    "print(person.__init__('Jon'))\n"
   ]
  },
  {
   "cell_type": "code",
   "execution_count": 56,
   "metadata": {},
   "outputs": [
    {
     "name": "stdout",
     "output_type": "stream",
     "text": [
      "Creating a new Person object...\n",
      "Initializing the person object...\n",
      "John\n",
      "<__main__.Person object at 0x000002C65828C610>\n",
      "Initializing the person object...\n",
      "Jhn\n",
      "None\n"
     ]
    }
   ],
   "source": [
    "class Person:\n",
    "    def __new__(cls,name):\n",
    "        print(f'Creating a new {cls.__name__} object...')\n",
    "        #obj = object.__new__(cls)\n",
    "        obj=super().__new__(cls)\n",
    "        return obj\n",
    "\n",
    "    def __init__(self, name):\n",
    "        print(f'Initializing the person object...')\n",
    "        print(name)\n",
    "        self.name = name\n",
    "\n",
    "\n",
    "person = Person('John')\n",
    "print(person)\n",
    "print(person.__init__('Jhn'))\n"
   ]
  },
  {
   "cell_type": "code",
   "execution_count": null,
   "metadata": {},
   "outputs": [],
   "source": []
  }
 ],
 "metadata": {
  "kernelspec": {
   "display_name": "Python 3",
   "language": "python",
   "name": "python3"
  },
  "language_info": {
   "codemirror_mode": {
    "name": "ipython",
    "version": 3
   },
   "file_extension": ".py",
   "mimetype": "text/x-python",
   "name": "python",
   "nbconvert_exporter": "python",
   "pygments_lexer": "ipython3",
   "version": "3.8.5"
  }
 },
 "nbformat": 4,
 "nbformat_minor": 4
}
